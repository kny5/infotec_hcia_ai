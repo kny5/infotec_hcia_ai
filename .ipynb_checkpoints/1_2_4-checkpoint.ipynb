{
 "cells": [
  {
   "cell_type": "code",
   "execution_count": 1,
   "id": "d591cc42-a2f3-47ab-a92e-340eb66e90ef",
   "metadata": {
    "tags": []
   },
   "outputs": [
    {
     "name": "stdout",
     "output_type": "stream",
     "text": [
      "Requirement already satisfied: pandas in c:\\users\\anaya\\anaconda_3\\envs\\ml_training_2024\\lib\\site-packages (2.2.0)\n",
      "Requirement already satisfied: pydotplus in c:\\users\\anaya\\anaconda_3\\envs\\ml_training_2024\\lib\\site-packages (2.0.2)\n",
      "Requirement already satisfied: pyarrow in c:\\users\\anaya\\anaconda_3\\envs\\ml_training_2024\\lib\\site-packages (15.0.0)\n",
      "Requirement already satisfied: numpy<2,>=1.22.4 in c:\\users\\anaya\\anaconda_3\\envs\\ml_training_2024\\lib\\site-packages (from pandas) (1.26.3)\n",
      "Requirement already satisfied: python-dateutil>=2.8.2 in c:\\users\\anaya\\anaconda_3\\envs\\ml_training_2024\\lib\\site-packages (from pandas) (2.8.2)\n",
      "Requirement already satisfied: pytz>=2020.1 in c:\\users\\anaya\\anaconda_3\\envs\\ml_training_2024\\lib\\site-packages (from pandas) (2023.4)\n",
      "Requirement already satisfied: tzdata>=2022.7 in c:\\users\\anaya\\anaconda_3\\envs\\ml_training_2024\\lib\\site-packages (from pandas) (2023.4)\n",
      "Requirement already satisfied: pyparsing>=2.0.1 in c:\\users\\anaya\\anaconda_3\\envs\\ml_training_2024\\lib\\site-packages (from pydotplus) (3.1.1)\n",
      "Requirement already satisfied: six>=1.5 in c:\\users\\anaya\\anaconda_3\\envs\\ml_training_2024\\lib\\site-packages (from python-dateutil>=2.8.2->pandas) (1.16.0)\n"
     ]
    }
   ],
   "source": [
    "!pip install pandas pydotplus pyarrow"
   ]
  },
  {
   "cell_type": "code",
   "execution_count": 2,
   "id": "5b43ae31-f9d2-437a-accd-c835a02c0539",
   "metadata": {
    "tags": []
   },
   "outputs": [],
   "source": [
    "import pandas as pd\n",
    "import numpy as np\n",
    "from sklearn import tree\n",
    "import pydotplus"
   ]
  },
  {
   "cell_type": "code",
   "execution_count": 3,
   "id": "b7a5baee-d6a1-4515-8079-21bb574e52ea",
   "metadata": {
    "tags": []
   },
   "outputs": [],
   "source": [
    "# 2 Define the function for generating decision tree.\n",
    "\n",
    "def create_tree(training_data):\n",
    "    data = training_data.iloc[:,:-1]\n",
    "    labels = training_data.iloc[:,-1]\n",
    "    trained_tree = tree.DecisionTreeClassifier(criterion='entropy')\n",
    "    trained_tree.fit(data, labels)\n",
    "    return trained_tree"
   ]
  },
  {
   "cell_type": "code",
   "execution_count": 4,
   "id": "2eb2ae6b-a18e-4b5e-bb56-d6ebc5b5ef08",
   "metadata": {
    "tags": []
   },
   "outputs": [],
   "source": [
    "# 3 Define the function for saving the generated tree diagram.\n",
    "\n",
    "def show_tree_pdf(trained_tree, filename):\n",
    "    dot_data = tree.export_graphviz(trained_tree, out_file=None)\n",
    "    graph = pydotplus.graph_from_dot_data(dot_data)\n",
    "    graph.write_pdf(filename)"
   ]
  },
  {
   "cell_type": "code",
   "execution_count": 5,
   "id": "94e00bad-d6a9-4f43-bd16-f1f29c257a2c",
   "metadata": {
    "tags": []
   },
   "outputs": [],
   "source": [
    "# 4 Define the function for generating vectorized data.\n",
    "\n",
    "def data_vector(data):\n",
    "    names = data.columns[:-1]\n",
    "    \n",
    "    for i in names:\n",
    "        col = pd.Categorical(data[i])\n",
    "        data[i] = col.codes\n",
    "    return data\n",
    "    "
   ]
  },
  {
   "cell_type": "code",
   "execution_count": 6,
   "id": "d8caf2f7-1a72-4ed3-82e7-5b366f38ee7e",
   "metadata": {
    "tags": []
   },
   "outputs": [],
   "source": [
    "# 5 Invoke function for prediction\n",
    "\n",
    "data = pd.read_table(\"ML/tennis.txt\", header=None, sep='\\t')\n",
    "training_vec = data_vector(data)\n",
    "decision_tree = create_tree(training_vec)\n",
    "show_tree_pdf(decision_tree, \"tennins.pdf\")"
   ]
  },
  {
   "cell_type": "code",
   "execution_count": 7,
   "id": "19eee916-e634-4acb-a16f-8fdb01640c33",
   "metadata": {
    "tags": []
   },
   "outputs": [
    {
     "name": "stdout",
     "output_type": "stream",
     "text": [
      "['Y']\n"
     ]
    }
   ],
   "source": [
    "# 6 Predict new sample\n",
    "\n",
    "test_vec = [0,0,1,1]\n",
    "\n",
    "print(decision_tree.predict(np.array(test_vec).reshape(1,-1)))"
   ]
  },
  {
   "cell_type": "code",
   "execution_count": null,
   "id": "2a42ca7e-a782-407a-99b5-7f0e51ee4b6d",
   "metadata": {},
   "outputs": [],
   "source": []
  }
 ],
 "metadata": {
  "kernelspec": {
   "display_name": "Python (ml_training_2024)",
   "language": "python",
   "name": "ml_training_2024"
  },
  "language_info": {
   "codemirror_mode": {
    "name": "ipython",
    "version": 3
   },
   "file_extension": ".py",
   "mimetype": "text/x-python",
   "name": "python",
   "nbconvert_exporter": "python",
   "pygments_lexer": "ipython3",
   "version": "3.10.13"
  }
 },
 "nbformat": 4,
 "nbformat_minor": 5
}
